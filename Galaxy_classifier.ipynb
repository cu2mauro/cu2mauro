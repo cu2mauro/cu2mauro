{
  "nbformat": 4,
  "nbformat_minor": 0,
  "metadata": {
    "kernelspec": {
      "display_name": "Python 3",
      "language": "python",
      "name": "python3"
    },
    "language_info": {
      "codemirror_mode": {
        "name": "ipython",
        "version": 3
      },
      "file_extension": ".py",
      "mimetype": "text/x-python",
      "name": "python",
      "nbconvert_exporter": "python",
      "pygments_lexer": "ipython3",
      "version": "3.6.8"
    },
    "colab": {
      "provenance": [],
      "include_colab_link": true
    },
    "accelerator": "GPU"
  },
  "cells": [
    {
      "cell_type": "markdown",
      "metadata": {
        "id": "view-in-github",
        "colab_type": "text"
      },
      "source": [
        "<a href=\"https://colab.research.google.com/github/cu2mauro/cu2mauro/blob/main/Galaxy_classifier.ipynb\" target=\"_parent\"><img src=\"https://colab.research.google.com/assets/colab-badge.svg\" alt=\"Open In Colab\"/></a>"
      ]
    },
    {
      "cell_type": "markdown",
      "metadata": {
        "id": "UWgL8BGyhu9x"
      },
      "source": [
        "# Galaxy classification with Convolutional Neural Networks\n",
        "In this tutorial we build a CNN to perform Galaxy classification.\n",
        "The dataset comes from the Galaxy Zoo Challenge and it is publicy available here:\n",
        "\n",
        "https://www.kaggle.com/c/galaxy-zoo-the-galaxy-challenge\n",
        "\n",
        "and described here:\n",
        "\n",
        "http://arxiv.org/abs/1308.3496\n",
        "\n",
        "The original dataset include more than 60,000 galaxy images, classified in 37 classes.\n",
        "\n",
        "Here we use a simplified version of it, which include 6167 Galaxies classified in 3 classes: Round, Disk edge-on or Spiral.\n",
        "\n",
        "To build, train and test the CNN we use keras with the tensorflow backend.\n",
        "Below we import the necessary modules."
      ]
    },
    {
      "cell_type": "code",
      "metadata": {
        "id": "TjQl_va0hu99"
      },
      "source": [
        "import numpy as np\n",
        "import pandas as pd\n",
        "from sklearn.model_selection import train_test_split\n",
        "from skimage.transform import resize\n",
        "from tqdm import tqdm\n",
        "import matplotlib.pyplot as plt\n",
        "import random\n",
        "%matplotlib inline\n",
        "import keras\n",
        "from keras.datasets import mnist\n",
        "from keras.models import Sequential, load_model\n",
        "from keras.layers import Dense, Dropout, Flatten\n",
        "from keras.layers import Conv2D, MaxPooling2D\n",
        "from keras import backend as K"
      ],
      "execution_count": null,
      "outputs": []
    },
    {
      "cell_type": "markdown",
      "metadata": {
        "id": "uKxFJeX0hu9-"
      },
      "source": [
        "load the file with the original classification of the full galaxy zoo dataset and print a subsection of it"
      ]
    },
    {
      "cell_type": "code",
      "metadata": {
        "colab": {
          "base_uri": "https://localhost:8080/"
        },
        "id": "QMB3-jdvjOa1",
        "outputId": "72038b65-655e-4b99-eaa3-aa57879c5795"
      },
      "source": [
        "from google.colab import drive\n",
        "drive.mount('/content/drive', force_remount=True)"
      ],
      "execution_count": null,
      "outputs": [
        {
          "output_type": "stream",
          "name": "stdout",
          "text": [
            "Mounted at /content/drive\n"
          ]
        }
      ]
    },
    {
      "cell_type": "code",
      "metadata": {
        "id": "OJR_GoFqhu9_"
      },
      "source": [
        "df = pd.read_csv('/content/drive/MyDrive/NN_lectures/gal_classification_CNN/training_solutions_rev1.csv')"
      ],
      "execution_count": null,
      "outputs": []
    },
    {
      "cell_type": "code",
      "metadata": {
        "colab": {
          "base_uri": "https://localhost:8080/"
        },
        "id": "vwzz0snjhu9_",
        "outputId": "c25e28a4-b65a-419f-8478-007bf4ebcb78"
      },
      "source": [
        "df.shape"
      ],
      "execution_count": null,
      "outputs": [
        {
          "output_type": "execute_result",
          "data": {
            "text/plain": [
              "(61578, 38)"
            ]
          },
          "metadata": {},
          "execution_count": 4
        }
      ]
    },
    {
      "cell_type": "markdown",
      "metadata": {
        "id": "typPhXSVhu-B"
      },
      "source": [
        "some functions to load the original images (not used in this tutorial as the simplified version of the datasets has been already prepared)"
      ]
    },
    {
      "cell_type": "code",
      "metadata": {
        "id": "AfIwvkxEhu-B"
      },
      "source": [
        "ORIG_SHAPE = (424,424)\n",
        "CROP_SIZE = (256,256)\n",
        "IMG_SHAPE = (64,64)\n",
        "\n",
        "def get_image(path, x1, y1, shape, crop_size):\n",
        "    x = plt.imread(path)\n",
        "    x = x[x1:x1+crop_size[0], y1:y1+crop_size[1]]\n",
        "    x = resize(x, shape)\n",
        "    x = x/255.\n",
        "    return x\n",
        "\n",
        "def get_all_images(dataframe, shape=IMG_SHAPE, crop_size=CROP_SIZE):\n",
        "    x1 = (ORIG_SHAPE[0]-CROP_SIZE[0])//2\n",
        "    y1 = (ORIG_SHAPE[1]-CROP_SIZE[1])//2\n",
        "\n",
        "    sel = dataframe.values\n",
        "    ids = sel[:,0].astype(int).astype(str)\n",
        "    y_batch = sel[:,1:]\n",
        "    x_batch = []\n",
        "    for i in tqdm(ids):\n",
        "        x = get_image('./images_training_rev1/'+i+'.jpg', x1,y1, shape=shape, crop_size=crop_size)\n",
        "        x_batch.append(x)\n",
        "    x_batch = np.array(x_batch)\n",
        "    return x_batch, y_batch\n",
        "\n",
        "def get_labels(dataframe):\n",
        "    sel = dataframe.values\n",
        "    ids = sel[:,0].astype(int).astype(str)\n",
        "    y_batch = sel[:,1:]\n",
        "    return y_batch"
      ],
      "execution_count": null,
      "outputs": []
    },
    {
      "cell_type": "markdown",
      "metadata": {
        "id": "j6AE5_R5hu-C"
      },
      "source": [
        "load already prepared simplified dataset, images in the X array, labels in the y array"
      ]
    },
    {
      "cell_type": "code",
      "metadata": {
        "id": "ima-_Vzvhu-C"
      },
      "source": [
        "data = np.load('/content/drive/MyDrive/NN_lectures/gal_classification_CNN/sel_data.npz')\n",
        "X = data['X']\n",
        "y = data['y']"
      ],
      "execution_count": null,
      "outputs": []
    },
    {
      "cell_type": "code",
      "metadata": {
        "colab": {
          "base_uri": "https://localhost:8080/"
        },
        "id": "IcvMQjFchu-D",
        "outputId": "8a040406-fb7a-4170-942b-393c8658abc9"
      },
      "source": [
        "print(X.shape, y.shape)"
      ],
      "execution_count": null,
      "outputs": [
        {
          "output_type": "stream",
          "name": "stdout",
          "text": [
            "(6167, 64, 64, 3) (6167, 3)\n"
          ]
        }
      ]
    },
    {
      "cell_type": "markdown",
      "metadata": {
        "id": "BLa35rX0hu-D"
      },
      "source": [
        "plot a random image of the dataset together with its class"
      ]
    },
    {
      "cell_type": "code",
      "metadata": {
        "id": "Bw20RHbvhu-D"
      },
      "source": [
        "def print_class(y):\n",
        "    gal_class = np.argmax(y)\n",
        "    if gal_class==0:\n",
        "        print('This is a round Galaxy')\n",
        "    if gal_class==1:\n",
        "        print('This is a Galaxy with disk edge-on')\n",
        "    if gal_class==2:\n",
        "        print('This is a spiral Galaxy')"
      ],
      "execution_count": null,
      "outputs": []
    },
    {
      "cell_type": "code",
      "metadata": {
        "colab": {
          "base_uri": "https://localhost:8080/",
          "height": 450
        },
        "id": "7tRTxhaShu-E",
        "outputId": "76036003-b247-47b3-ed75-0013c71d24af"
      },
      "source": [
        "t = np.random.randint(len(X))\n",
        "plt.imshow(X[t]*255)\n",
        "print_class(y[t])"
      ],
      "execution_count": null,
      "outputs": [
        {
          "output_type": "stream",
          "name": "stdout",
          "text": [
            "This is a round Galaxy\n"
          ]
        },
        {
          "output_type": "display_data",
          "data": {
            "text/plain": [
              "<Figure size 640x480 with 1 Axes>"
            ],
            "image/png": "[encoded data removed]"
          },
          "metadata": {}
        }
      ]
    },
    {
      "cell_type": "markdown",
      "metadata": {
        "id": "IocCrGachu-E"
      },
      "source": [
        "Divide dataset into training (80%), validation (10%) and test set (10%)\n",
        "\n"
      ]
    },
    {
      "cell_type": "code",
      "metadata": {
        "id": "4j-mfVmFhu-F"
      },
      "source": [
        "Ntot = len(X)\n",
        "tot_ind = np.arange(Ntot)\n",
        "random.shuffle(tot_ind)\n",
        "val_ind = tot_ind[int(Ntot*0.8):int(Ntot*0.9)]\n",
        "train_ind = tot_ind[0:int(Ntot*0.8)]\n",
        "test_ind = tot_ind[int(Ntot*0.9):]"
      ],
      "execution_count": null,
      "outputs": []
    },
    {
      "cell_type": "code",
      "metadata": {
        "id": "UddwSwxyhu-F"
      },
      "source": [
        "X_train = X[train_ind]\n",
        "y_train = y[train_ind]\n",
        "X_val = X[val_ind]\n",
        "y_val = y[val_ind]\n",
        "X_test = X[test_ind]\n",
        "y_test = y[test_ind]"
      ],
      "execution_count": null,
      "outputs": []
    },
    {
      "cell_type": "code",
      "source": [
        "X_train.shape"
      ],
      "metadata": {
        "colab": {
          "base_uri": "https://localhost:8080/"
        },
        "id": "LWAQzdVWL-AT",
        "outputId": "4155acb3-abad-4e08-89f6-e5851c26875c"
      },
      "execution_count": null,
      "outputs": [
        {
          "output_type": "execute_result",
          "data": {
            "text/plain": [
              "(4933, 64, 64, 3)"
            ]
          },
          "metadata": {},
          "execution_count": 14
        }
      ]
    },
    {
      "cell_type": "markdown",
      "metadata": {
        "id": "cxsgVwQ8hu-G"
      },
      "source": [
        "Build the CNN, compile and train/validate it"
      ]
    },
    {
      "cell_type": "code",
      "metadata": {
        "id": "XSVdhMqwhu-G"
      },
      "source": [
        "model = Sequential()\n",
        "model.add(Conv2D(2, kernel_size=(5, 5),\n",
        "                 activation='relu',\n",
        "                 input_shape=(64, 64, 3)))\n",
        "model.add(MaxPooling2D(pool_size=(2, 2)))\n",
        "model.add(Conv2D(4, (5, 5), activation='relu'))\n",
        "model.add(MaxPooling2D(pool_size=(2, 2)))\n",
        "model.add(Conv2D(8, (5, 5), activation='relu'))\n",
        "model.add(MaxPooling2D(pool_size=(2, 2)))\n",
        "model.add(Flatten())\n",
        "model.add(Dense(32, activation='relu'))\n",
        "model.add(Dropout(0.5))\n",
        "model.add(Dense(3, activation='softmax'))\n"
      ],
      "execution_count": null,
      "outputs": []
    },
    {
      "cell_type": "code",
      "metadata": {
        "colab": {
          "base_uri": "https://localhost:8080/"
        },
        "id": "ydIT0bwGhu-H",
        "outputId": "94ba46b1-5ff3-4b7a-f070-3a301c707821"
      },
      "source": [
        "model.summary()"
      ],
      "execution_count": null,
      "outputs": [
        {
          "output_type": "stream",
          "name": "stdout",
          "text": [
            "Model: \"sequential_1\"\n",
            "_________________________________________________________________\n",
            " Layer (type)                Output Shape              Param #   \n",
            "=================================================================\n",
            " conv2d_3 (Conv2D)           (None, 60, 60, 2)         152       \n",
            "                                                                 \n",
            " max_pooling2d_3 (MaxPooling  (None, 30, 30, 2)        0         \n",
            " 2D)                                                             \n",
            "                                                                 \n",
            " conv2d_4 (Conv2D)           (None, 26, 26, 4)         204       \n",
            "                                                                 \n",
            " max_pooling2d_4 (MaxPooling  (None, 13, 13, 4)        0         \n",
            " 2D)                                                             \n",
            "                                                                 \n",
            " conv2d_5 (Conv2D)           (None, 9, 9, 8)           808       \n",
            "                                                                 \n",
            " max_pooling2d_5 (MaxPooling  (None, 4, 4, 8)          0         \n",
            " 2D)                                                             \n",
            "                                                                 \n",
            " flatten_1 (Flatten)         (None, 128)               0         \n",
            "                                                                 \n",
            " dense_2 (Dense)             (None, 32)                4128      \n",
            "                                                                 \n",
            " dropout_1 (Dropout)         (None, 32)                0         \n",
            "                                                                 \n",
            " dense_3 (Dense)             (None, 3)                 99        \n",
            "                                                                 \n",
            "=================================================================\n",
            "Total params: 5,391\n",
            "Trainable params: 5,391\n",
            "Non-trainable params: 0\n",
            "_________________________________________________________________\n"
          ]
        }
      ]
    },
    {
      "cell_type": "markdown",
      "metadata": {
        "id": "4F6-rRerhu-I"
      },
      "source": [
        "**Note:** training should be done on GPUs, if you are not running on GPUs skip this part and load the pretrained model"
      ]
    },
    {
      "cell_type": "code",
      "metadata": {
        "scrolled": true,
        "colab": {
          "base_uri": "https://localhost:8080/"
        },
        "id": "zJgMiL6Hhu-I",
        "outputId": "34e6cd6b-5e0d-4abf-dea7-4238dd53df2a"
      },
      "source": [
        "model.compile(loss=keras.losses.categorical_crossentropy,\n",
        "              optimizer='Adam',\n",
        "              metrics=['accuracy'])\n",
        "\n",
        "cnn_history = model.fit(X_train, y_train,\n",
        "          batch_size=128,\n",
        "          epochs=30,\n",
        "          verbose=1, validation_data=(X_val, y_val))"
      ],
      "execution_count": null,
      "outputs": [
        {
          "output_type": "stream",
          "name": "stdout",
          "text": [
            "Epoch 1/30\n",
            "39/39 [==============================] - 12s 27ms/step - loss: 1.0295 - accuracy: 0.4701 - val_loss: 0.9638 - val_accuracy: 0.4700\n",
            "Epoch 2/30\n",
            "39/39 [==============================] - 0s 9ms/step - loss: 0.9923 - accuracy: 0.4687 - val_loss: 0.9684 - val_accuracy: 0.4700\n",
            "Epoch 3/30\n",
            "39/39 [==============================] - 0s 9ms/step - loss: 0.9913 - accuracy: 0.4697 - val_loss: 0.9572 - val_accuracy: 0.4700\n",
            "Epoch 4/30\n",
            "39/39 [==============================] - 0s 9ms/step - loss: 0.9891 - accuracy: 0.4585 - val_loss: 0.9626 - val_accuracy: 0.4700\n",
            "Epoch 5/30\n",
            "39/39 [==============================] - 0s 9ms/step - loss: 0.9819 - accuracy: 0.4632 - val_loss: 0.9505 - val_accuracy: 0.4700\n",
            "Epoch 6/30\n",
            "39/39 [==============================] - 0s 9ms/step - loss: 0.9700 - accuracy: 0.4567 - val_loss: 0.9314 - val_accuracy: 0.4700\n",
            "Epoch 7/30\n",
            "39/39 [==============================] - 0s 9ms/step - loss: 0.9490 - accuracy: 0.4685 - val_loss: 0.9137 - val_accuracy: 0.4700\n",
            "Epoch 8/30\n",
            "39/39 [==============================] - 0s 9ms/step - loss: 0.9361 - accuracy: 0.4833 - val_loss: 0.8962 - val_accuracy: 0.5235\n",
            "Epoch 9/30\n",
            "39/39 [==============================] - 0s 9ms/step - loss: 0.9021 - accuracy: 0.5246 - val_loss: 0.8688 - val_accuracy: 0.5673\n",
            "Epoch 10/30\n",
            "39/39 [==============================] - 0s 10ms/step - loss: 0.8794 - accuracy: 0.5372 - val_loss: 0.8486 - val_accuracy: 0.6045\n",
            "Epoch 11/30\n",
            "39/39 [==============================] - 0s 9ms/step - loss: 0.8536 - accuracy: 0.5569 - val_loss: 0.8136 - val_accuracy: 0.6288\n",
            "Epoch 12/30\n",
            "39/39 [==============================] - 0s 9ms/step - loss: 0.8211 - accuracy: 0.5759 - val_loss: 0.7792 - val_accuracy: 0.6596\n",
            "Epoch 13/30\n",
            "39/39 [==============================] - 0s 10ms/step - loss: 0.7949 - accuracy: 0.6013 - val_loss: 0.7566 - val_accuracy: 0.7212\n",
            "Epoch 14/30\n",
            "39/39 [==============================] - 0s 10ms/step - loss: 0.7509 - accuracy: 0.6400 - val_loss: 0.7004 - val_accuracy: 0.7358\n",
            "Epoch 15/30\n",
            "39/39 [==============================] - 0s 10ms/step - loss: 0.7099 - accuracy: 0.6722 - val_loss: 0.6642 - val_accuracy: 0.7731\n",
            "Epoch 16/30\n",
            "39/39 [==============================] - 0s 10ms/step - loss: 0.6701 - accuracy: 0.7093 - val_loss: 0.6239 - val_accuracy: 0.7828\n",
            "Epoch 17/30\n",
            "39/39 [==============================] - 0s 10ms/step - loss: 0.6395 - accuracy: 0.7308 - val_loss: 0.5934 - val_accuracy: 0.7909\n",
            "Epoch 18/30\n",
            "39/39 [==============================] - 0s 12ms/step - loss: 0.6087 - accuracy: 0.7513 - val_loss: 0.5841 - val_accuracy: 0.7828\n",
            "Epoch 19/30\n",
            "39/39 [==============================] - 0s 11ms/step - loss: 0.5920 - accuracy: 0.7626 - val_loss: 0.5352 - val_accuracy: 0.8055\n",
            "Epoch 20/30\n",
            "39/39 [==============================] - 0s 12ms/step - loss: 0.5759 - accuracy: 0.7726 - val_loss: 0.5256 - val_accuracy: 0.8169\n",
            "Epoch 21/30\n",
            "39/39 [==============================] - 0s 12ms/step - loss: 0.5529 - accuracy: 0.7843 - val_loss: 0.5034 - val_accuracy: 0.8298\n",
            "Epoch 22/30\n",
            "39/39 [==============================] - 0s 12ms/step - loss: 0.5483 - accuracy: 0.7876 - val_loss: 0.4828 - val_accuracy: 0.8363\n",
            "Epoch 23/30\n",
            "39/39 [==============================] - 0s 13ms/step - loss: 0.5524 - accuracy: 0.7847 - val_loss: 0.4818 - val_accuracy: 0.8250\n",
            "Epoch 24/30\n",
            "39/39 [==============================] - 0s 12ms/step - loss: 0.5257 - accuracy: 0.8001 - val_loss: 0.4686 - val_accuracy: 0.8298\n",
            "Epoch 25/30\n",
            "39/39 [==============================] - 0s 12ms/step - loss: 0.5085 - accuracy: 0.8015 - val_loss: 0.4547 - val_accuracy: 0.8476\n",
            "Epoch 26/30\n",
            "39/39 [==============================] - 0s 11ms/step - loss: 0.5004 - accuracy: 0.8072 - val_loss: 0.4428 - val_accuracy: 0.8428\n",
            "Epoch 27/30\n",
            "39/39 [==============================] - 0s 10ms/step - loss: 0.4880 - accuracy: 0.8105 - val_loss: 0.4371 - val_accuracy: 0.8476\n",
            "Epoch 28/30\n",
            "39/39 [==============================] - 0s 9ms/step - loss: 0.4966 - accuracy: 0.8096 - val_loss: 0.4502 - val_accuracy: 0.8363\n",
            "Epoch 29/30\n",
            "39/39 [==============================] - 0s 10ms/step - loss: 0.5004 - accuracy: 0.8076 - val_loss: 0.4673 - val_accuracy: 0.8282\n",
            "Epoch 30/30\n",
            "39/39 [==============================] - 0s 9ms/step - loss: 0.4941 - accuracy: 0.8060 - val_loss: 0.4398 - val_accuracy: 0.8298\n"
          ]
        }
      ]
    },
    {
      "cell_type": "code",
      "metadata": {
        "id": "DKmGR9wfhu-J"
      },
      "source": [
        "model = load_model('/content/drive/MyDrive/NN_lectures/gal_classification_CNN/pretrained_CNN.h5')"
      ],
      "execution_count": null,
      "outputs": []
    },
    {
      "cell_type": "code",
      "metadata": {
        "colab": {
          "base_uri": "https://localhost:8080/"
        },
        "id": "1pxXAFTlhu-J",
        "outputId": "36006774-7981-4324-df4d-ed37a33ee45d"
      },
      "source": [
        "score = model.evaluate(X_test, y_test, verbose=0)\n",
        "print('Test accuracy:', score[1])\n",
        "y_pred_cnn2 = model.predict(X_test)"
      ],
      "execution_count": null,
      "outputs": [
        {
          "output_type": "stream",
          "name": "stdout",
          "text": [
            "Test accuracy: 0.9562398791313171\n",
            "20/20 [==============================] - 0s 3ms/step\n"
          ]
        }
      ]
    },
    {
      "cell_type": "code",
      "metadata": {
        "colab": {
          "base_uri": "https://localhost:8080/",
          "height": 450
        },
        "id": "EbTQdTx0hu-K",
        "outputId": "38b260f0-9677-4ad1-fb07-4e2c24d206c2"
      },
      "source": [
        "t = np.random.randint(len(X_test))\n",
        "plt.imshow(X_test[t, :, :]*255)\n",
        "print_class(y_pred_cnn2[t])"
      ],
      "execution_count": null,
      "outputs": [
        {
          "output_type": "stream",
          "name": "stdout",
          "text": [
            "This is a Galaxy with disk edge-on\n"
          ]
        },
        {
          "output_type": "display_data",
          "data": {
            "text/plain": [
              "<Figure size 640x480 with 1 Axes>"
            ],
            "image/png": "[encoded data removed]"
          },
          "metadata": {}
        }
      ]
    },
    {
      "cell_type": "markdown",
      "metadata": {
        "id": "0ZJlJKs7hu-K"
      },
      "source": [
        "Save and reload the trained model"
      ]
    },
    {
      "cell_type": "code",
      "metadata": {
        "id": "hHiHn6bshu-L"
      },
      "source": [
        "#model.save('pretrained_CNN.h5')\n",
        "#model = load_model('pretrained_CNN.h5')\n",
        "#model = load_model('/content/drive/MyDrive/NN_SISSA_2022/gal_classification_CNN/pretrained_CNN.h5')"
      ],
      "execution_count": null,
      "outputs": []
    },
    {
      "cell_type": "markdown",
      "metadata": {
        "id": "4zG-0Y8ahu-L"
      },
      "source": [
        "some inspection...\n",
        "\n",
        "we extract from the trained neural network the values of weights in each filter and plot them"
      ]
    },
    {
      "cell_type": "code",
      "metadata": {
        "id": "soijFV7Uhu-L"
      },
      "source": [
        "conv1_lyr = model.layers[0]"
      ],
      "execution_count": null,
      "outputs": []
    },
    {
      "cell_type": "code",
      "metadata": {
        "id": "cDVQHw1-hu-M"
      },
      "source": [
        "w_conv1 = conv1_lyr.get_weights()"
      ],
      "execution_count": null,
      "outputs": []
    },
    {
      "cell_type": "code",
      "metadata": {
        "colab": {
          "base_uri": "https://localhost:8080/"
        },
        "id": "9Ag8nqQKhu-M",
        "outputId": "35c0b665-40d2-47b2-e7a7-2be55d4161ec"
      },
      "source": [
        "w_conv1 = np.array(w_conv1)"
      ],
      "execution_count": null,
      "outputs": [
        {
          "output_type": "stream",
          "name": "stderr",
          "text": [
            "<ipython-input-30-00f81d5ecc60>:1: VisibleDeprecationWarning: Creating an ndarray from ragged nested sequences (which is a list-or-tuple of lists-or-tuples-or ndarrays with different lengths or shapes) is deprecated. If you meant to do this, you must specify 'dtype=object' when creating the ndarray.\n",
            "  w_conv1 = np.array(w_conv1)\n"
          ]
        }
      ]
    },
    {
      "cell_type": "code",
      "metadata": {
        "colab": {
          "base_uri": "https://localhost:8080/"
        },
        "id": "gXZ1yfKghu-M",
        "outputId": "48ed8e79-b20f-4f2b-b007-e7dac44d439a"
      },
      "source": [
        "w_conv1[0].shape"
      ],
      "execution_count": null,
      "outputs": [
        {
          "output_type": "execute_result",
          "data": {
            "text/plain": [
              "(5, 5, 3, 16)"
            ]
          },
          "metadata": {},
          "execution_count": 31
        }
      ]
    },
    {
      "cell_type": "code",
      "metadata": {
        "colab": {
          "base_uri": "https://localhost:8080/",
          "height": 224
        },
        "id": "RfcDCGOKhu-M",
        "outputId": "ee4fe4d3-e865-4fb2-e8f4-c49c00b82c41"
      },
      "source": [
        "plt.subplot(132)\n",
        "plt.imshow(w_conv1[0][:,:,0,1], cmap='binary')"
      ],
      "execution_count": null,
      "outputs": [
        {
          "output_type": "execute_result",
          "data": {
            "text/plain": [
              "<matplotlib.image.AxesImage at 0x7fea44136f20>"
            ]
          },
          "metadata": {},
          "execution_count": 32
        },
        {
          "output_type": "display_data",
          "data": {
            "text/plain": [
              "<Figure size 640x480 with 1 Axes>"
            ],
            "image/png": "[encoded data removed]"
          },
          "metadata": {}
        }
      ]
    },
    {
      "cell_type": "code",
      "metadata": {
        "id": "oEnutcpEhu-N"
      },
      "source": [],
      "execution_count": null,
      "outputs": []
    }
  ]
}